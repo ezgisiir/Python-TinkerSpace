{
 "cells": [
  {
   "cell_type": "markdown",
   "metadata": {},
   "source": [
    "# Digging Into Python\n",
    "Updated April 2020  \n",
    "Content based on [Software Carpentries Plotting in Python lesson](http://swcarpentry.github.io/python-novice-gapminder/09-plotting/index.html)"
   ]
  },
  {
   "cell_type": "markdown",
   "metadata": {},
   "source": [
    "This notebook will get into some of the more common and powerful ways to use python. \n",
    "\n",
    "\n",
    "Let's start off by creating some calculations we could reuse. Below we are converting cenimeters to inches. Notice how you can use variable within equations. \n",
    "\n",
    "Comments are throughout the code (indicated by #) to explain what is beng done.\n",
    "\n",
    "## Performing Calculations"
   ]
  },
  {
   "cell_type": "code",
   "execution_count": 1,
   "metadata": {},
   "outputs": [
    {
     "name": "stdout",
     "output_type": "stream",
     "text": [
      "12.0 inches\n"
     ]
    }
   ],
   "source": [
    "#Define the variable cm\n",
    "cm = 30.48\n",
    "#Perform caculation\n",
    "inches = cm/2.54\n",
    "#Print result\n",
    "print(inches,\"inches\")\n",
    "\n",
    "#change the cm value to test your code"
   ]
  },
  {
   "cell_type": "markdown",
   "metadata": {},
   "source": [
    "### Challenge 1:\n",
    "Fill out the code below to convert inches to feet"
   ]
  },
  {
   "cell_type": "code",
   "execution_count": null,
   "metadata": {},
   "outputs": [],
   "source": [
    "#Convert inches to feet\n",
    "feet = _________/12\n",
    "print(_____, \"feet\")"
   ]
  },
  {
   "cell_type": "markdown",
   "metadata": {},
   "source": [
    "### Challenge 2:\n",
    "Fill out the code below to convert feet to yards."
   ]
  },
  {
   "cell_type": "code",
   "execution_count": 2,
   "metadata": {},
   "outputs": [
    {
     "ename": "NameError",
     "evalue": "name '_______' is not defined",
     "output_type": "error",
     "traceback": [
      "\u001b[1;31m---------------------------------------------------------------------------\u001b[0m",
      "\u001b[1;31mNameError\u001b[0m                                 Traceback (most recent call last)",
      "\u001b[1;32m<ipython-input-2-2a6ef95861cf>\u001b[0m in \u001b[0;36m<module>\u001b[1;34m\u001b[0m\n\u001b[0;32m      1\u001b[0m \u001b[1;31m#Convert _____________\u001b[0m\u001b[1;33m\u001b[0m\u001b[1;33m\u001b[0m\u001b[1;33m\u001b[0m\u001b[0m\n\u001b[1;32m----> 2\u001b[1;33m \u001b[0m_______\u001b[0m \u001b[1;33m=\u001b[0m \u001b[0m_______\u001b[0m\u001b[1;33m/\u001b[0m\u001b[1;36m3\u001b[0m\u001b[1;33m\u001b[0m\u001b[1;33m\u001b[0m\u001b[0m\n\u001b[0m\u001b[0;32m      3\u001b[0m \u001b[0mprint\u001b[0m\u001b[1;33m(\u001b[0m\u001b[0m_____________\u001b[0m\u001b[1;33m)\u001b[0m\u001b[1;33m\u001b[0m\u001b[1;33m\u001b[0m\u001b[0m\n",
      "\u001b[1;31mNameError\u001b[0m: name '_______' is not defined"
     ]
    }
   ],
   "source": [
    "#Convert _____________\n",
    "_______ = _______/3\n",
    "print(_____________)"
   ]
  },
  {
   "cell_type": "markdown",
   "metadata": {},
   "source": [
    "## Mad Libs\n",
    "Using the skills you have already learned you can make a mad lib to share with others. \n"
   ]
  },
  {
   "cell_type": "code",
   "execution_count": null,
   "metadata": {},
   "outputs": [],
   "source": [
    "food = input(\"Enter a food item: \")\n",
    "snack = input(\"Enter a snack: \")\n",
    "fruit = input(\"Enter a fruit: \")\n",
    "name = input (\"Enter a name: \")\n",
    "drink = input(\"Enter your favorite beverage: \")\n",
    "\n",
    "print (\"I am bringing some \" + food + \" and some healthy \" + fruit + \" to the picnic!\")\n",
    "print (name + \" is bringing the \" + snack + \" and the \" + drink)"
   ]
  },
  {
   "cell_type": "markdown",
   "metadata": {},
   "source": [
    "### Challenge\n",
    "Use the space below to create your own madlib! \n"
   ]
  },
  {
   "cell_type": "code",
   "execution_count": null,
   "metadata": {},
   "outputs": [],
   "source": []
  },
  {
   "cell_type": "markdown",
   "metadata": {},
   "source": [
    "## Conditionals\n",
    "Conditionals are used to see if statements are true. They are often used with loops to check lots of data as once.  \n",
    "Python conditional statements are also called if/else statements. They have some special keywords -- **if and else** -- and some special formating -- **indents and colons(:).**\n",
    "\n",
    "Notice that the special keywords are in green, and that the indents occuring automatically if you apply the colon correctly. This is jupyter notebook helping us out! "
   ]
  },
  {
   "cell_type": "code",
   "execution_count": 37,
   "metadata": {},
   "outputs": [
    {
     "name": "stdout",
     "output_type": "stream",
     "text": [
      "3.54 is large\n"
     ]
    }
   ],
   "source": [
    "#Here is a statement to check if the variable mass is above 3.0\n",
    "mass = 3.54 #Defining a variable\n",
    "if mass > 3.0: #Statement\n",
    "    print(mass, 'is large') #Result/Action"
   ]
  },
  {
   "cell_type": "markdown",
   "metadata": {},
   "source": [
    "What will happen when you run the code below?"
   ]
  },
  {
   "cell_type": "code",
   "execution_count": 38,
   "metadata": {},
   "outputs": [],
   "source": [
    "mass = 2.07\n",
    "if mass > 3.0:\n",
    "    print (mass, 'is large')"
   ]
  },
  {
   "cell_type": "markdown",
   "metadata": {},
   "source": [
    "### Challenge 3: \n",
    "Edit the code to print out 2.07 is small."
   ]
  },
  {
   "cell_type": "code",
   "execution_count": null,
   "metadata": {},
   "outputs": [],
   "source": [
    "mass = 2.07\n",
    "if mass > 3.0:\n",
    "    print (_________, '____________')"
   ]
  },
  {
   "cell_type": "markdown",
   "metadata": {},
   "source": [
    "We can combine the if with an else statement to have different outcomes."
   ]
  },
  {
   "cell_type": "code",
   "execution_count": 3,
   "metadata": {},
   "outputs": [
    {
     "name": "stdout",
     "output_type": "stream",
     "text": [
      "3.2 is large\n"
     ]
    }
   ],
   "source": [
    "mass = 3.2\n",
    "if mass > 3.0:\n",
    "    print(mass, 'is large')\n",
    "else:\n",
    "    print(mass, 'is small')\n",
    "    \n",
    "#Rerun this code a few times with different values for mass. "
   ]
  },
  {
   "cell_type": "markdown",
   "metadata": {},
   "source": [
    "An elif statement allows for you to add another possiblity. You can add unlimited elif statements. \n",
    "\n",
    "### Challenge 4:\n",
    "Edit the code below to add an elif statement. Run the code with different mass values until you get every option to print."
   ]
  },
  {
   "cell_type": "code",
   "execution_count": null,
   "metadata": {},
   "outputs": [],
   "source": [
    "mass = ______\n",
    "if mass ________________\n",
    "    print(mass, 'is HUGE')\n",
    "elif mass > 3.0:\n",
    "    print(mass, 'is large')\n",
    "else:\n",
    "    print(mass, 'is small')"
   ]
  },
  {
   "cell_type": "markdown",
   "metadata": {},
   "source": [
    "The code below is written to return a letter grade if given a number. \n",
    "\n",
    "**Try it out with differnt numbers. Does it work as expected?  \n",
    "What is happening?*** "
   ]
  },
  {
   "cell_type": "code",
   "execution_count": null,
   "metadata": {},
   "outputs": [],
   "source": [
    "grade = 85\n",
    "if grade >= 70:\n",
    "    print('grade is C')\n",
    "elif grade >= 80:\n",
    "    print('grade is B')\n",
    "elif grade >= 90:\n",
    "    print('grade is A')"
   ]
  },
  {
   "cell_type": "markdown",
   "metadata": {},
   "source": [
    "### Challenge 5: \n",
    "Re-write the code in the box below to have it return what you need. "
   ]
  },
  {
   "cell_type": "code",
   "execution_count": null,
   "metadata": {},
   "outputs": [],
   "source": [
    "grade = 85\n",
    "if \n",
    "\n",
    "elif \n",
    "\n",
    "else\n"
   ]
  },
  {
   "cell_type": "markdown",
   "metadata": {},
   "source": [
    "## Lists \n",
    "A list is a group of values. The values are enclosed in a square brackets and separated by commas. A list is could include any data type. In the example below we will use a list of numbers.There are special functions you can use on lists. "
   ]
  },
  {
   "cell_type": "code",
   "execution_count": 7,
   "metadata": {},
   "outputs": [
    {
     "name": "stdout",
     "output_type": "stream",
     "text": [
      "primes [2, 3, 5]\n",
      "length of primes: 3\n"
     ]
    }
   ],
   "source": [
    "#Create a list\n",
    "primes = [2,3,5]\n",
    "print('primes', primes)\n",
    "\n",
    "#Find the length of the list primes using len() function\n",
    "print('length of primes:', len(primes))"
   ]
  },
  {
   "cell_type": "markdown",
   "metadata": {},
   "source": [
    "A list is indexable. That means you can pull out specific values in a list by their number in the list. You use square brackets to pull out a list value. **Note: Python starts counting at 0. This means that the first item is in a list has the index 0 -- see example below.**"
   ]
  },
  {
   "cell_type": "code",
   "execution_count": 9,
   "metadata": {},
   "outputs": [
    {
     "data": {
      "text/plain": [
       "'A'"
      ]
     },
     "execution_count": 9,
     "metadata": {},
     "output_type": "execute_result"
    }
   ],
   "source": [
    "letters = [\"A\", \"B\", \"C\", \"D\", \"E\", \"F\", \"G\"]\n",
    "\n",
    "#pull out first value in list\n",
    "letters[0]"
   ]
  },
  {
   "cell_type": "markdown",
   "metadata": {},
   "source": [
    "### Challenge 6:\n",
    "Using the box below, pull out the 3rd letter of the list. Hint: it should be 'C.' "
   ]
  },
  {
   "cell_type": "code",
   "execution_count": null,
   "metadata": {},
   "outputs": [],
   "source": [
    "letters[_]"
   ]
  },
  {
   "cell_type": "markdown",
   "metadata": {},
   "source": [
    "## Loops\n",
    "Now, that we understand lists. Let's move back into creating a loop. \n",
    "\n",
    "We can create loops to process lots of data as once. The most common loop is a for loop. Like condtionals this has special words -- **for and in** and special sytnax -- **indents and colons(:)** \n",
    "\n",
    "This is the basic sytanx:   \n",
    "```for item in collection:\n",
    "    do this:\n",
    "```\n",
    "\n",
    "An item is an individual piece of data and a collection is a group of data like a list. "
   ]
  },
  {
   "cell_type": "code",
   "execution_count": 11,
   "metadata": {},
   "outputs": [
    {
     "name": "stdout",
     "output_type": "stream",
     "text": [
      "2\n",
      "3\n",
      "5\n",
      "7\n"
     ]
    }
   ],
   "source": [
    "#Create a list to use as our collection\n",
    "primes = [2,3,5,7]\n",
    "\n",
    "#Loop through each item in the list and print it out\n",
    "for prime in primes: \n",
    "    print(prime)"
   ]
  },
  {
   "cell_type": "markdown",
   "metadata": {},
   "source": [
    "As with all variables, the name you chose for the item can be meaningless but it is better to have readable name. For example, changing prime in the code above to kitten will work, but generally be confusing. Run the code below to confirm that it works. \n"
   ]
  },
  {
   "cell_type": "code",
   "execution_count": 12,
   "metadata": {},
   "outputs": [
    {
     "name": "stdout",
     "output_type": "stream",
     "text": [
      "2\n",
      "3\n",
      "5\n",
      "7\n"
     ]
    }
   ],
   "source": [
    "#Loop through each item in the list and print it out\n",
    "for kitten in primes: \n",
    "    print(kitten)"
   ]
  },
  {
   "cell_type": "markdown",
   "metadata": {},
   "source": [
    "You can have multiple statements in the body of a loop. "
   ]
  },
  {
   "cell_type": "code",
   "execution_count": 13,
   "metadata": {},
   "outputs": [
    {
     "name": "stdout",
     "output_type": "stream",
     "text": [
      "2 4\n",
      "3 9\n",
      "5 25\n",
      "7 49\n"
     ]
    }
   ],
   "source": [
    "for prime in primes:\n",
    "    squared = prime ** 2 #Square the prime\n",
    "    print(prime, squared)"
   ]
  },
  {
   "cell_type": "markdown",
   "metadata": {},
   "source": [
    "### Challenge 7:\n",
    "Add a line in the code below that will cube the primes"
   ]
  },
  {
   "cell_type": "code",
   "execution_count": 2,
   "metadata": {},
   "outputs": [
    {
     "ename": "NameError",
     "evalue": "name 'primes' is not defined",
     "output_type": "error",
     "traceback": [
      "\u001b[1;31m---------------------------------------------------------------------------\u001b[0m",
      "\u001b[1;31mNameError\u001b[0m                                 Traceback (most recent call last)",
      "\u001b[1;32m<ipython-input-2-3528fffde61e>\u001b[0m in \u001b[0;36m<module>\u001b[1;34m\u001b[0m\n\u001b[1;32m----> 1\u001b[1;33m \u001b[1;32mfor\u001b[0m \u001b[0mprime\u001b[0m \u001b[1;32min\u001b[0m \u001b[0mprimes\u001b[0m\u001b[1;33m:\u001b[0m\u001b[1;33m\u001b[0m\u001b[1;33m\u001b[0m\u001b[0m\n\u001b[0m\u001b[0;32m      2\u001b[0m     \u001b[0msquared\u001b[0m \u001b[1;33m=\u001b[0m \u001b[0mprime\u001b[0m \u001b[1;33m**\u001b[0m \u001b[1;36m2\u001b[0m \u001b[1;31m#Square the prime\u001b[0m\u001b[1;33m\u001b[0m\u001b[1;33m\u001b[0m\u001b[0m\n\u001b[0;32m      3\u001b[0m     \u001b[0mcubed\u001b[0m \u001b[1;33m=\u001b[0m \u001b[0mprime\u001b[0m \u001b[1;33m**\u001b[0m \u001b[1;36m3\u001b[0m\u001b[1;33m\u001b[0m\u001b[1;33m\u001b[0m\u001b[0m\n\u001b[0;32m      4\u001b[0m     \u001b[0mprint\u001b[0m\u001b[1;33m(\u001b[0m\u001b[0mprime\u001b[0m\u001b[1;33m,\u001b[0m \u001b[0msquared\u001b[0m\u001b[1;33m,\u001b[0m \u001b[0mcubed\u001b[0m\u001b[1;33m)\u001b[0m\u001b[1;33m\u001b[0m\u001b[1;33m\u001b[0m\u001b[0m\n\u001b[0;32m      5\u001b[0m \u001b[1;33m\u001b[0m\u001b[0m\n",
      "\u001b[1;31mNameError\u001b[0m: name 'primes' is not defined"
     ]
    }
   ],
   "source": [
    "for prime in primes:\n",
    "    squared = prime ** 2 #Square the prime\n",
    "    cubed = prime ** 3\n",
    "    print(prime, squared, cubed)\n",
    "    \n",
    "    \n",
    "    "
   ]
  },
  {
   "cell_type": "markdown",
   "metadata": {},
   "source": [
    "The built in function range can provide a sequence of numbers. You can use this in place of a list. \n",
    "range(n), where n is number. You can also set the set the starting and ending numbers by using range(start,end)."
   ]
  },
  {
   "cell_type": "code",
   "execution_count": 14,
   "metadata": {},
   "outputs": [
    {
     "name": "stdout",
     "output_type": "stream",
     "text": [
      "a range is not a list: range(0, 3)\n",
      "0\n",
      "1\n",
      "2\n"
     ]
    }
   ],
   "source": [
    "print('a range is not a list: range(0, 3)')\n",
    "for number in range(0, 3):\n",
    "    print(number)"
   ]
  },
  {
   "cell_type": "markdown",
   "metadata": {},
   "source": [
    "The **accumulator pattern** is a common pattern in programs. \n",
    "1. Set a variable to zero, the empty string, or the empty list.\n",
    "2. Update the variable with values from a collection."
   ]
  },
  {
   "cell_type": "code",
   "execution_count": 3,
   "metadata": {},
   "outputs": [
    {
     "name": "stdout",
     "output_type": "stream",
     "text": [
      "1\n",
      "3\n",
      "6\n",
      "10\n",
      "15\n",
      "21\n",
      "28\n",
      "36\n",
      "45\n",
      "55\n"
     ]
    }
   ],
   "source": [
    "# Sum the first 10 integers.\n",
    "total = 0\n",
    "for number in range(10):\n",
    "   total = total + (number + 1)\n",
    "   print(total)"
   ]
  },
  {
   "cell_type": "markdown",
   "metadata": {},
   "source": [
    "### Challenge 8: \n",
    "Add comments to explain what is happening the code below. "
   ]
  },
  {
   "cell_type": "code",
   "execution_count": 4,
   "metadata": {},
   "outputs": [
    {
     "name": "stdout",
     "output_type": "stream",
     "text": [
      "55\n"
     ]
    }
   ],
   "source": [
    "# Sum the first 10 integers.\n",
    "total = 0 #\n",
    "for number in range(10): #\n",
    "    total = total + (number + 1)\n",
    "print(total) #"
   ]
  },
  {
   "cell_type": "markdown",
   "metadata": {},
   "source": [
    "You can add print statements to see what is happening and in what order. This is a good de-bugging technique. "
   ]
  },
  {
   "cell_type": "code",
   "execution_count": 17,
   "metadata": {},
   "outputs": [
    {
     "name": "stdout",
     "output_type": "stream",
     "text": [
      "number 0\n",
      "running total 0\n",
      "number 1\n",
      "running total 1\n",
      "number 2\n",
      "running total 3\n",
      "number 3\n",
      "running total 6\n",
      "number 4\n",
      "running total 10\n",
      "number 5\n",
      "running total 15\n",
      "number 6\n",
      "running total 21\n",
      "number 7\n",
      "running total 28\n",
      "number 8\n",
      "running total 36\n",
      "number 9\n",
      "running total 45\n",
      "55\n"
     ]
    }
   ],
   "source": [
    "# Sum the first 10 integers.\n",
    "total = 0 #\n",
    "for number in range(10): #\n",
    "    print('number:',number)\n",
    "    print('running total:', total)\n",
    "    total = total + (number + 1)\n",
    "print(total) #"
   ]
  },
  {
   "cell_type": "markdown",
   "metadata": {},
   "source": [
    "### Challenge 9:\n",
    "Fill the in the blanks for the program below so that it prints \"nit\" (the reverse of the string \"tin\")"
   ]
  },
  {
   "cell_type": "code",
   "execution_count": 7,
   "metadata": {},
   "outputs": [
    {
     "name": "stdout",
     "output_type": "stream",
     "text": [
      "t\n",
      "it\n",
      "nit\n",
      "nit\n"
     ]
    }
   ],
   "source": [
    "original = \"tin\"\n",
    "result = \"\"\n",
    "for char in original:\n",
    "    result = char + result\n",
    "    print(result)\n",
    "print(result)"
   ]
  },
  {
   "cell_type": "markdown",
   "metadata": {},
   "source": [
    "## Plotting"
   ]
  },
  {
   "cell_type": "markdown",
   "metadata": {},
   "source": [
    "Python is a great to tool to create charts that are easily reproducible. To make charts with python you will need to install a library. **Libraries** are packages of code that others have developed and shared.\n",
    "\n",
    "For plotting, we are going to use the **matplotlib** library. Since this is a large library we are only going to import part of it (pyplot) and rename it something shorter (plt). We will also run some code to make sure our charts are displayed in the notebook and not as a pop-up."
   ]
  },
  {
   "cell_type": "code",
   "execution_count": 21,
   "metadata": {},
   "outputs": [],
   "source": [
    "#Run this code to force your charts to be displayed inline instead of pop-ups\n",
    "%matplotlib inline\n",
    "\n",
    "#import the mathplotlib.pyplot library\n",
    "import matplotlib.pyplot as plt"
   ]
  },
  {
   "cell_type": "markdown",
   "metadata": {},
   "source": [
    "Now can create some charts."
   ]
  },
  {
   "cell_type": "code",
   "execution_count": 8,
   "metadata": {},
   "outputs": [
    {
     "ename": "NameError",
     "evalue": "name 'plt' is not defined",
     "output_type": "error",
     "traceback": [
      "\u001b[1;31m---------------------------------------------------------------------------\u001b[0m",
      "\u001b[1;31mNameError\u001b[0m                                 Traceback (most recent call last)",
      "\u001b[1;32m<ipython-input-8-9f0d4898b7c3>\u001b[0m in \u001b[0;36m<module>\u001b[1;34m\u001b[0m\n\u001b[0;32m      5\u001b[0m \u001b[1;31m#Run these commands from matplotlib.pyplot\u001b[0m\u001b[1;33m\u001b[0m\u001b[1;33m\u001b[0m\u001b[1;33m\u001b[0m\u001b[0m\n\u001b[0;32m      6\u001b[0m \u001b[1;31m#Creates the base plot with time on the x-axis and positoin on the y axis\u001b[0m\u001b[1;33m\u001b[0m\u001b[1;33m\u001b[0m\u001b[1;33m\u001b[0m\u001b[0m\n\u001b[1;32m----> 7\u001b[1;33m \u001b[0mplt\u001b[0m\u001b[1;33m.\u001b[0m\u001b[0mplot\u001b[0m\u001b[1;33m(\u001b[0m\u001b[0mtime\u001b[0m\u001b[1;33m,\u001b[0m \u001b[0mposition\u001b[0m\u001b[1;33m)\u001b[0m\u001b[1;33m\u001b[0m\u001b[1;33m\u001b[0m\u001b[0m\n\u001b[0m\u001b[0;32m      8\u001b[0m \u001b[1;31m#Create the x and y labels\u001b[0m\u001b[1;33m\u001b[0m\u001b[1;33m\u001b[0m\u001b[1;33m\u001b[0m\u001b[0m\n\u001b[0;32m      9\u001b[0m \u001b[0mplt\u001b[0m\u001b[1;33m.\u001b[0m\u001b[0mplot\u001b[0m\u001b[1;33m(\u001b[0m\u001b[0mposition\u001b[0m\u001b[1;33m,\u001b[0m\u001b[0mtime\u001b[0m\u001b[1;33m)\u001b[0m\u001b[1;33m\u001b[0m\u001b[1;33m\u001b[0m\u001b[0m\n",
      "\u001b[1;31mNameError\u001b[0m: name 'plt' is not defined"
     ]
    }
   ],
   "source": [
    "#Create two lists as our data sources\n",
    "time = [0,1,2,3]\n",
    "position = [0,100,200,300]\n",
    "\n",
    "#Run these commands from matplotlib.pyplot\n",
    "#Creates the base plot with time on the x-axis and positoin on the y axis\n",
    "plt.plot(time, position)\n",
    "#Create the x and y labels\n",
    "plt.plot(position,time)\n",
    "plt.xlabel('Time (hr)')\n",
    "plt.ylabel('Position (km)')\n"
   ]
  },
  {
   "cell_type": "markdown",
   "metadata": {},
   "source": [
    "### Challenge:10\n",
    "Fill in the blanks below to flip the axes.  \n",
    "*Hint: Time should be on the y and postion should be on the x*"
   ]
  },
  {
   "cell_type": "code",
   "execution_count": 25,
   "metadata": {},
   "outputs": [
    {
     "ename": "NameError",
     "evalue": "name '______' is not defined",
     "output_type": "error",
     "traceback": [
      "\u001b[1;31m---------------------------------------------------------------------------\u001b[0m",
      "\u001b[1;31mNameError\u001b[0m                                 Traceback (most recent call last)",
      "\u001b[1;32m<ipython-input-25-2c413956c6ef>\u001b[0m in \u001b[0;36m<module>\u001b[1;34m\u001b[0m\n\u001b[1;32m----> 1\u001b[1;33m \u001b[0mplt\u001b[0m\u001b[1;33m.\u001b[0m\u001b[0mplot\u001b[0m\u001b[1;33m(\u001b[0m\u001b[0m______\u001b[0m\u001b[1;33m,\u001b[0m\u001b[0m_________\u001b[0m\u001b[1;33m)\u001b[0m\u001b[1;33m\u001b[0m\u001b[1;33m\u001b[0m\u001b[0m\n\u001b[0m\u001b[0;32m      2\u001b[0m \u001b[1;31m#Create the x and y labels\u001b[0m\u001b[1;33m\u001b[0m\u001b[1;33m\u001b[0m\u001b[1;33m\u001b[0m\u001b[0m\n\u001b[0;32m      3\u001b[0m \u001b[0mplt\u001b[0m\u001b[1;33m.\u001b[0m\u001b[0mxlabel\u001b[0m\u001b[1;33m(\u001b[0m\u001b[1;34m'________'\u001b[0m\u001b[1;33m)\u001b[0m\u001b[1;33m\u001b[0m\u001b[1;33m\u001b[0m\u001b[0m\n\u001b[0;32m      4\u001b[0m \u001b[0mplt\u001b[0m\u001b[1;33m.\u001b[0m\u001b[0mylabel\u001b[0m\u001b[1;33m(\u001b[0m\u001b[1;34m'________'\u001b[0m\u001b[1;33m)\u001b[0m\u001b[1;33m\u001b[0m\u001b[1;33m\u001b[0m\u001b[0m\n",
      "\u001b[1;31mNameError\u001b[0m: name '______' is not defined"
     ]
    }
   ],
   "source": [
    "plt.plot(______,_________)\n",
    "#Create the x and y labels\n",
    "plt.xlabel('________')\n",
    "plt.ylabel('________')\n"
   ]
  },
  {
   "cell_type": "markdown",
   "metadata": {},
   "source": [
    "Let's try this out with some more real world data. We will use Rochester's average snowfall totals by month, which we got form this website. https://www.currentresults.com/Weather/New-York/Places/rochester-snowfall-totals-snow-accumulation-averages.php"
   ]
  },
  {
   "cell_type": "code",
   "execution_count": 30,
   "metadata": {},
   "outputs": [],
   "source": [
    "#Convert table from website into list\n",
    "month = [1,2,3,4,5,6,7,8,9,10,11,12]\n",
    "snowfall_in = [28.2,21.5,16.3,3.9,0.4,0,0,0,0.1,7.3,21.8,99.5]"
   ]
  },
  {
   "cell_type": "code",
   "execution_count": 49,
   "metadata": {},
   "outputs": [
    {
     "data": {
      "image/png": "[encoded data removed]",
      "text/plain": [
       "<Figure size 432x288 with 1 Axes>"
      ]
     },
     "metadata": {
      "needs_background": "light"
     },
     "output_type": "display_data"
    }
   ],
   "source": [
    "# Create the basic plot\n",
    "plt.plot(month, snowfall_in)\n",
    "\n",
    "#Add axes labels\n",
    "plt.xlabel('Month')\n",
    "plt.ylabel('Snowfall (in)')\n",
    "\n",
    "plt.show()"
   ]
  },
  {
   "cell_type": "markdown",
   "metadata": {},
   "source": [
    "We can add some styling to make our line graph clearer. "
   ]
  },
  {
   "cell_type": "code",
   "execution_count": 60,
   "metadata": {},
   "outputs": [
    {
     "data": {
      "image/png": "[encoded data removed]",
      "text/plain": [
       "<Figure size 432x288 with 1 Axes>"
      ]
     },
     "metadata": {
      "needs_background": "light"
     },
     "output_type": "display_data"
    }
   ],
   "source": [
    "# Create the basic plot\n",
    "plt.plot(month, snowfall_in)\n",
    "\n",
    "#Add axes labels\n",
    "plt.xlabel('Month')\n",
    "plt.ylabel('Snowfall (in)')\n",
    "\n",
    "#Add tick marks and labels for each month\n",
    "labels =[\"Jan\",\"Feb\",\"Mar\",\"Apr\",\"May\", \"June\", \"July\", \"Aug\",\"Sep\", \"Oct\", \"Nov\", \"Dec\"]\n",
    "plt.xticks(month, labels,rotation=45)\n",
    "\n",
    "plt.show()"
   ]
  },
  {
   "cell_type": "markdown",
   "metadata": {},
   "source": [
    "We can use matplotlib.pyplot to make other kinds of graphs. The code below creates a bar chart. \n",
    "\n",
    "**What was altered in the code to make this change?**"
   ]
  },
  {
   "cell_type": "code",
   "execution_count": 61,
   "metadata": {},
   "outputs": [
    {
     "data": {
      "image/png": "[encoded data removed]",
      "text/plain": [
       "<Figure size 432x288 with 1 Axes>"
      ]
     },
     "metadata": {
      "needs_background": "light"
     },
     "output_type": "display_data"
    }
   ],
   "source": [
    "# Create the basic plot\n",
    "plt.bar(month, snowfall_in)\n",
    "\n",
    "#Add axes labels\n",
    "plt.xlabel('Month')\n",
    "plt.ylabel('Snowfall (in)')\n",
    "plt.xticks(month)\n",
    "\n",
    "#Add tick marks and labels for each month\n",
    "labels =[\"Jan\",\"Feb\",\"Mar\",\"Apr\",\"May\", \"June\", \"July\", \"Aug\",\"Sep\", \"Oct\", \"Nov\", \"Dec\"]\n",
    "plt.xticks(month, labels,rotation=45)\n",
    "\n",
    "plt.show()"
   ]
  },
  {
   "cell_type": "markdown",
   "metadata": {},
   "source": [
    "For more examples of matplotlib visualizaiton, check out https://matplotlib.org/tutorials/introductory/sample_plots.html"
   ]
  },
  {
   "cell_type": "code",
   "execution_count": null,
   "metadata": {},
   "outputs": [],
   "source": []
  }
 ],
 "metadata": {
  "kernelspec": {
   "display_name": "Python 3",
   "language": "python",
   "name": "python3"
  },
  "language_info": {
   "codemirror_mode": {
    "name": "ipython",
    "version": 3
   },
   "file_extension": ".py",
   "mimetype": "text/x-python",
   "name": "python",
   "nbconvert_exporter": "python",
   "pygments_lexer": "ipython3",
   "version": "3.7.3"
  }
 },
 "nbformat": 4,
 "nbformat_minor": 2
}
